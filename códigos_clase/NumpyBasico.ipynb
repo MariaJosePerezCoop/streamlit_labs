{
 "cells": [
  {
   "cell_type": "markdown",
   "metadata": {},
   "source": [
    "# NumPy.\n",
    "# What is NumPy?\n",
    "\n",
    "NumPy is a Python library used for working with arrays.\n",
    "It also has functions for working in domain of linear algebra, fourier transform, and matrices.\n",
    "NumPy was created in 2005 by Travis Oliphant. It is an open source project and you can use it freely.\n",
    "NumPy stands for Numerical Python.\n",
    "\n",
    "# Why Use NumPy?\n",
    "\n",
    "In Python we have lists that serve the purpose of arrays, but they are slow to process.\n",
    "NumPy aims to provide an array object that is up to 50x faster than traditional Python lists.\n",
    "The array object in NumPy is called ndarray, it provides a lot of supporting functions that make working with ndarray very easy.\n",
    "Arrays are very frequently used in data science, where speed and resources are very important.\n",
    "Data Science: is a branch of computer science where we study how to store, use and analyze data for deriving information from it.\n",
    "\n",
    "# Why is NumPy Faster Than Lists?\n",
    "\n",
    "NumPy arrays are stored at one continuous place in memory unlike lists, so processes can access and manipulate them very efficiently.\n",
    "This behavior is called locality of reference in computer science.\n",
    "This is the main reason why NumPy is faster than lists. Also it is optimized to work with latest CPU architectures.\n",
    "\n",
    "# Which Language is NumPy written in?\n",
    "\n",
    "NumPy is a Python library and is written partially in Python, but most of the parts that require fast computation are written in C or C++.\n",
    " \n",
    "# More on NumPy\n",
    "\n",
    "* NumPy is a Python library.\n",
    "* NumPy is used for working with arrays.\n",
    "* NumPy is short for \"Numerical Python\"."
   ]
  },
  {
   "cell_type": "markdown",
   "metadata": {},
   "source": [
    "# NumPy.\n",
    "# ¿Qué es NumPy?\n",
    "\n",
    "NumPy es una biblioteca de Python utilizada para trabajar con matrices.\n",
    "También tiene funciones para trabajar en el dominio del álgebra lineal, la transformada de Fourier y las matrices.\n",
    "NumPy fue creado en 2005 por Travis Oliphant. Es un proyecto de código abierto y puedes usarlo libremente.\n",
    "NumPy significa Python numérico.\n",
    "\n",
    "# ¿Por qué usar NumPy?\n",
    "\n",
    "En Python tenemos listas que cumplen el propósito de matrices, pero son lentas de procesar.\n",
    "NumPy tiene como objetivo proporcionar un objeto de matriz que es hasta 50 veces más rápido que las listas tradicionales de Python.\n",
    "El objeto de matriz en NumPy se llama ndarray, proporciona muchas funciones de soporte que hacen que trabajar con ndarray sea muy fácil.\n",
    "Las matrices se utilizan con mucha frecuencia en la ciencia de datos, donde la velocidad y los recursos son muy importantes.\n",
    "Ciencia de datos: es una rama de la informática donde estudiamos cómo almacenar, usar y analizar datos para obtener información de ellos.\n",
    "\n",
    "# ¿Por qué NumPy es más rápido que las listas?\n",
    "\n",
    "Las matrices NumPy se almacenan en un lugar continuo en la memoria, a diferencia de las listas, por lo que los procesos pueden acceder a ellas y manipularlas de manera muy eficiente.\n",
    "Este comportamiento se denomina localidad de referencia en informática.\n",
    "Esta es la razón principal por la que NumPy es más rápido que las listas. También está optimizado para trabajar con las últimas arquitecturas de CPU.\n",
    "\n",
    "# ¿En qué idioma está escrito NumPy?\n",
    "\n",
    "NumPy es una biblioteca de Python y está escrita parcialmente en Python, pero la mayoría de las partes que requieren un cálculo rápido están escritas en C o C++.\n",
    " \n",
    "# Más sobre NumPy\n",
    "\n",
    "* NumPy es una biblioteca de Python.\n",
    "* NumPy se usa para trabajar con arreglos.\n",
    "* NumPy es la abreviatura de \"Numerical Python\"."
   ]
  },
  {
   "cell_type": "markdown",
   "metadata": {},
   "source": [
    "# Checking NumPy Version\n",
    "The version string is stored under __version__ attribute."
   ]
  },
  {
   "cell_type": "code",
   "execution_count": 10,
   "metadata": {},
   "outputs": [
    {
     "name": "stdout",
     "output_type": "stream",
     "text": [
      "1.21.1\n"
     ]
    }
   ],
   "source": [
    "import numpy as np\n",
    "print(np.__version__)"
   ]
  },
  {
   "cell_type": "markdown",
   "metadata": {},
   "source": [
    "# NumPy as np\n",
    "* NumPy is usually imported under the np alias.\n",
    "* alias: In Python alias are an alternate name for referring to the same thing.\n",
    "* Create an alias with the as keyword while importing: import numpy as np\n",
    "* Now the NumPy package can be referred to as np instead of numpy."
   ]
  },
  {
   "cell_type": "markdown",
   "metadata": {},
   "source": [
    "# NumPy como np\n",
    "* NumPy generalmente se importa con el alias np.\n",
    "* alias: en Python, los alias son un nombre alternativo para referirse a lo mismo.\n",
    "* Cree un alias con la palabra clave as durante la importación: import numpy as np\n",
    "* Ahora el paquete NumPy se puede denominar np en lugar de numpy."
   ]
  },
  {
   "cell_type": "markdown",
   "metadata": {},
   "source": [
    "# Create a NumPy ndarray Object\n",
    "\n",
    "NumPy is used to work with arrays. The array object in NumPy is called ndarray.\n",
    "We can create a NumPy ndarray object by using the array() function."
   ]
  },
  {
   "cell_type": "code",
   "execution_count": 1,
   "metadata": {},
   "outputs": [
    {
     "name": "stdout",
     "output_type": "stream",
     "text": [
      "[1 2 3 4 5]\n",
      "<class 'numpy.ndarray'>\n",
      "int64\n"
     ]
    }
   ],
   "source": [
    "import numpy as np\n",
    "arr = np.array([1, 2, 3, 4, 5])\n",
    "print(arr)\n",
    "print(type(arr))\n",
    "print(arr.dtype)"
   ]
  },
  {
   "cell_type": "markdown",
   "metadata": {},
   "source": [
    "To create an ndarray, we can pass a list, tuple or any array-like object into the array() method, and it will be converted into an ndarray:\n",
    "\n",
    "Example\n",
    "Use a tuple to create a NumPy array:"
   ]
  },
  {
   "cell_type": "code",
   "execution_count": 31,
   "metadata": {},
   "outputs": [
    {
     "name": "stdout",
     "output_type": "stream",
     "text": [
      "[1 2 3 4 5]\n",
      "int64\n"
     ]
    }
   ],
   "source": [
    "import numpy as np\n",
    "arr = np.array((1, 2, 3, 4, 5))\n",
    "print(arr)\n",
    "print(arr.dtype)"
   ]
  },
  {
   "cell_type": "code",
   "execution_count": 32,
   "metadata": {},
   "outputs": [
    {
     "name": "stdout",
     "output_type": "stream",
     "text": [
      "['a' 'b' 'c' 'd' 'e']\n",
      "<U1\n"
     ]
    }
   ],
   "source": [
    "import numpy as np\n",
    "arr = np.array(('a', 'b', 'c', 'd', 'e'))\n",
    "print(arr)\n",
    "print(arr.dtype)"
   ]
  },
  {
   "cell_type": "code",
   "execution_count": 2,
   "metadata": {},
   "outputs": [
    {
     "name": "stdout",
     "output_type": "stream",
     "text": [
      "['1' '2' 'x' '4' '5.3']\n",
      "<U32\n"
     ]
    }
   ],
   "source": [
    "import numpy as np\n",
    "arr = np.array((1, 2, 'x', 4, 5.3))\n",
    "print(arr)\n",
    "print(arr.dtype)"
   ]
  },
  {
   "cell_type": "code",
   "execution_count": 33,
   "metadata": {},
   "outputs": [
    {
     "name": "stdout",
     "output_type": "stream",
     "text": [
      "[1.  2.  3.  4.  5.3]\n",
      "float64\n"
     ]
    }
   ],
   "source": [
    "import numpy as np\n",
    "arr = np.array((1, 2, 3, 4, 5.3))\n",
    "print(arr)\n",
    "print(arr.dtype)"
   ]
  },
  {
   "cell_type": "markdown",
   "metadata": {},
   "source": [
    "# Dimensions in Arrays\n",
    "A dimension in arrays is one level of array depth (nested arrays).\n",
    "\n",
    "nested array: are arrays that have arrays as their elements.\n"
   ]
  },
  {
   "cell_type": "markdown",
   "metadata": {},
   "source": [
    "# 0-D Arrays\n",
    "0-D arrays, or Scalars, are the elements in an array. Each value in an array is a 0-D array.\n",
    "Example\n",
    "Create a 0-D array with value 42"
   ]
  },
  {
   "cell_type": "code",
   "execution_count": 15,
   "metadata": {},
   "outputs": [
    {
     "name": "stdout",
     "output_type": "stream",
     "text": [
      "42\n"
     ]
    }
   ],
   "source": [
    "import numpy as np\n",
    "arr = np.array(42)\n",
    "print(arr)"
   ]
  },
  {
   "cell_type": "markdown",
   "metadata": {},
   "source": [
    "1-D Arrays\n",
    "An array that has 0-D arrays as its elements is called uni-dimensional or 1-D array.\n",
    "\n",
    "These are the most common and basic arrays.\n",
    "\n",
    "Example\n",
    "Create a 1-D array containing the values 1,2,3,4,5:"
   ]
  },
  {
   "cell_type": "code",
   "execution_count": 16,
   "metadata": {},
   "outputs": [
    {
     "name": "stdout",
     "output_type": "stream",
     "text": [
      "[1 2 3 4 5]\n"
     ]
    }
   ],
   "source": [
    "import numpy as np\n",
    "arr = np.array([1, 2, 3, 4, 5])\n",
    "print(arr)"
   ]
  },
  {
   "cell_type": "markdown",
   "metadata": {},
   "source": [
    "# 2-D Arrays\n",
    "An array that has 1-D arrays as its elements is called a 2-D array.\n",
    "These are often used to represent matrix or 2nd order tensors.\n",
    "NumPy has a whole sub module dedicated towards matrix operations called numpy.mat"
   ]
  },
  {
   "cell_type": "code",
   "execution_count": 17,
   "metadata": {},
   "outputs": [
    {
     "name": "stdout",
     "output_type": "stream",
     "text": [
      "[[1 2 3]\n",
      " [4 5 6]]\n"
     ]
    }
   ],
   "source": [
    "import numpy as np\n",
    "arr = np.array([[1, 2, 3], [4, 5, 6]])\n",
    "print(arr)"
   ]
  },
  {
   "cell_type": "markdown",
   "metadata": {},
   "source": [
    "# 3-D arrays\n",
    "An array that has 2-D arrays (matrices) as its elements is called 3-D array.\n",
    "\n",
    "These are often used to represent a 3rd order tensor.\n",
    "\n",
    "Example\n",
    "Create a 3-D array with two 2-D arrays, both containing two arrays with the values 1,2,3 and 4,5,6:"
   ]
  },
  {
   "cell_type": "code",
   "execution_count": 18,
   "metadata": {},
   "outputs": [
    {
     "name": "stdout",
     "output_type": "stream",
     "text": [
      "[[[ 1  2  3]\n",
      "  [ 4  5  6]]\n",
      "\n",
      " [[11 22 33]\n",
      "  [44 55 66]]]\n"
     ]
    }
   ],
   "source": [
    "import numpy as np\n",
    "arr = np.array([[[1, 2, 3], [4, 5, 6]], [[11, 22, 33], [44, 55, 66]]])\n",
    "print(arr)"
   ]
  },
  {
   "cell_type": "markdown",
   "metadata": {},
   "source": [
    "# Check Number of Dimensions\n",
    "NumPy Arrays provides the ndim attribute that returns an integer that tells us how many dimensions the array have."
   ]
  },
  {
   "cell_type": "code",
   "execution_count": 19,
   "metadata": {},
   "outputs": [
    {
     "name": "stdout",
     "output_type": "stream",
     "text": [
      "0\n",
      "1\n",
      "2\n",
      "3\n",
      "()\n",
      "(5,)\n",
      "(2, 3)\n",
      "(2, 2, 3)\n"
     ]
    }
   ],
   "source": [
    "import numpy as np\n",
    "\n",
    "a = np.array(42)\n",
    "b = np.array([1, 2, 3, 4, 5])\n",
    "c = np.array([[1, 2, 3], [4, 5, 6]])\n",
    "d = np.array([[[1, 2, 3], [4, 5, 6]], [[1, 2, 3], [4, 5, 6]]])\n",
    "\n",
    "print(a.ndim)\n",
    "print(b.ndim)\n",
    "print(c.ndim)\n",
    "print(d.ndim)\n",
    "\n",
    "print(a.shape)\n",
    "print(b.shape)\n",
    "print(c.shape)\n",
    "print(d.shape)\n",
    "\n"
   ]
  },
  {
   "cell_type": "markdown",
   "metadata": {},
   "source": [
    "# Higher Dimensional Arrays\n",
    "An array can have any number of dimensions.\n",
    "\n",
    "When the array is created, you can define the number of dimensions by using the ndmin argument.\n",
    "\n",
    "Example\n",
    "Create an array with 5 dimensions and verify that it has 5 dimensions.\n",
    "In this array the innermost dimension (5th dim) has 4 elements, the 4th dim has 1 element that is the vector, the 3rd dim has 1 element that is the matrix with the vector, the 2nd dim has 1 element that is 3D array and 1st dim has 1 element that is a 4D array.\n",
    "Do you understand?????"
   ]
  },
  {
   "cell_type": "code",
   "execution_count": 21,
   "metadata": {},
   "outputs": [
    {
     "name": "stdout",
     "output_type": "stream",
     "text": [
      "[[[[[1 2 3 4]]]]]\n",
      "number of dimensions : 5 (1, 1, 1, 1, 4)\n"
     ]
    }
   ],
   "source": [
    "import numpy as np\n",
    "\n",
    "arr = np.array([1, 2, 3, 4], ndmin=5)\n",
    "\n",
    "print(arr)\n",
    "print('number of dimensions :', arr.ndim, arr.shape)"
   ]
  },
  {
   "cell_type": "markdown",
   "metadata": {},
   "source": [
    "# Other means to create arrays..."
   ]
  },
  {
   "cell_type": "code",
   "execution_count": 22,
   "metadata": {},
   "outputs": [
    {
     "data": {
      "text/plain": [
       "array([[0., 0., 0.],\n",
       "       [0., 0., 0.],\n",
       "       [0., 0., 0.],\n",
       "       [0., 0., 0.],\n",
       "       [0., 0., 0.]])"
      ]
     },
     "execution_count": 22,
     "metadata": {},
     "output_type": "execute_result"
    }
   ],
   "source": [
    "import numpy as np\n",
    "\n",
    "arr1 = np.zeros((5,3))\n",
    "arr1\n"
   ]
  },
  {
   "cell_type": "markdown",
   "metadata": {},
   "source": []
  },
  {
   "cell_type": "code",
   "execution_count": 23,
   "metadata": {},
   "outputs": [
    {
     "data": {
      "text/plain": [
       "array([[[1., 1., 1.],\n",
       "        [1., 1., 1.]],\n",
       "\n",
       "       [[1., 1., 1.],\n",
       "        [1., 1., 1.]],\n",
       "\n",
       "       [[1., 1., 1.],\n",
       "        [1., 1., 1.]]])"
      ]
     },
     "execution_count": 23,
     "metadata": {},
     "output_type": "execute_result"
    }
   ],
   "source": [
    "import numpy as np\n",
    "\n",
    "arr1 = np.ones((3,2,3))\n",
    "arr1"
   ]
  },
  {
   "cell_type": "code",
   "execution_count": 51,
   "metadata": {},
   "outputs": [
    {
     "data": {
      "text/plain": [
       "array([[[12682136550675316736, 12682136550675316736,\n",
       "                           20,                    0],\n",
       "        [                   0,                    0,\n",
       "         12682136550675316736, 12682136550675316736]],\n",
       "\n",
       "       [[                  17,                    0,\n",
       "                            0,                    0],\n",
       "        [                   0,                    0,\n",
       "                            0,                    0]],\n",
       "\n",
       "       [[                   0,                    0,\n",
       "                            0,                    0],\n",
       "        [                   0,  7089003604894822965,\n",
       "         12682136550675316736, 12682136550675316736]]], dtype=uint64)"
      ]
     },
     "execution_count": 51,
     "metadata": {},
     "output_type": "execute_result"
    }
   ],
   "source": [
    "import numpy as np\n",
    "\n",
    "arr2 = np.empty((3,2,4), dtype = 'u8')\n",
    "arr2\n",
    "#what?????"
   ]
  },
  {
   "cell_type": "code",
   "execution_count": 52,
   "metadata": {},
   "outputs": [
    {
     "data": {
      "text/plain": [
       "array([[[ True,  True,  True,  True],\n",
       "        [ True,  True,  True,  True]],\n",
       "\n",
       "       [[ True,  True,  True,  True],\n",
       "        [ True,  True,  True,  True]],\n",
       "\n",
       "       [[ True,  True,  True,  True],\n",
       "        [ True,  True,  True,  True]]])"
      ]
     },
     "execution_count": 52,
     "metadata": {},
     "output_type": "execute_result"
    }
   ],
   "source": [
    "import numpy as np\n",
    "\n",
    "arr2 = np.empty((3,2,4), dtype = '?')\n",
    "arr2\n",
    "#what?????"
   ]
  },
  {
   "cell_type": "code",
   "execution_count": 55,
   "metadata": {},
   "outputs": [
    {
     "data": {
      "text/plain": [
       "array([[1, 0, 0, 0],\n",
       "       [0, 1, 0, 0],\n",
       "       [0, 0, 1, 0]])"
      ]
     },
     "execution_count": 55,
     "metadata": {},
     "output_type": "execute_result"
    }
   ],
   "source": [
    "import numpy as np\n",
    "\n",
    "arr2 = np.eye(3,4, dtype=int) #Watch out!!! We are now specifying the data type of the array\n",
    "arr2"
   ]
  },
  {
   "cell_type": "code",
   "execution_count": 54,
   "metadata": {},
   "outputs": [
    {
     "data": {
      "text/plain": [
       "array([[1, 0, 0, 0],\n",
       "       [0, 1, 0, 0],\n",
       "       [0, 0, 1, 0]], dtype=uint64)"
      ]
     },
     "execution_count": 54,
     "metadata": {},
     "output_type": "execute_result"
    }
   ],
   "source": [
    "import numpy as np\n",
    "\n",
    "arr2 = np.eye(3,4, dtype='u8') #Watch out!!! We are now specifying the data type of the array\n",
    "arr2"
   ]
  },
  {
   "cell_type": "code",
   "execution_count": 46,
   "metadata": {},
   "outputs": [
    {
     "data": {
      "text/plain": [
       "array([[1, 0, 0, 0],\n",
       "       [0, 1, 0, 0],\n",
       "       [0, 0, 1, 0],\n",
       "       [0, 0, 0, 1]])"
      ]
     },
     "execution_count": 46,
     "metadata": {},
     "output_type": "execute_result"
    }
   ],
   "source": [
    "import numpy as np\n",
    "\n",
    "arr2 = np.identity(4, dtype='i8') #Watch out!!! We are now specifying the data type of the array\n",
    "arr2"
   ]
  },
  {
   "cell_type": "code",
   "execution_count": 47,
   "metadata": {},
   "outputs": [
    {
     "data": {
      "text/plain": [
       "array([[1., 0., 0., 0.],\n",
       "       [0., 1., 0., 0.],\n",
       "       [0., 0., 1., 0.],\n",
       "       [0., 0., 0., 1.]])"
      ]
     },
     "execution_count": 47,
     "metadata": {},
     "output_type": "execute_result"
    }
   ],
   "source": [
    "import numpy as np\n",
    "\n",
    "arr2 = np.identity(4, dtype='f8') #Watch out!!! We are now specifying the data type of the array\n",
    "arr2"
   ]
  },
  {
   "cell_type": "code",
   "execution_count": 27,
   "metadata": {},
   "outputs": [
    {
     "data": {
      "text/plain": [
       "array([[3.5, 3.5, 3.5],\n",
       "       [3.5, 3.5, 3.5]])"
      ]
     },
     "execution_count": 27,
     "metadata": {},
     "output_type": "execute_result"
    }
   ],
   "source": [
    "import numpy as np\n",
    "\n",
    "arr2 = np.full((2,3),3.5, dtype='float') #Watch out!!! We are now specifying the data type of the array\n",
    "arr2"
   ]
  },
  {
   "cell_type": "code",
   "execution_count": 66,
   "metadata": {},
   "outputs": [
    {
     "data": {
      "text/plain": [
       "array([[b'1', b'', b'', b''],\n",
       "       [b'', b'1', b'', b''],\n",
       "       [b'', b'', b'1', b'']], dtype='|S1')"
      ]
     },
     "execution_count": 66,
     "metadata": {},
     "output_type": "execute_result"
    }
   ],
   "source": [
    "import numpy as np\n",
    "\n",
    "arr2 = np.eye(3,4, dtype=np.string_) #Watch out!!! We are now specifying the data type of the array\n",
    "arr2"
   ]
  },
  {
   "cell_type": "code",
   "execution_count": 71,
   "metadata": {},
   "outputs": [
    {
     "data": {
      "text/plain": [
       "array([['1', '', '', ''],\n",
       "       ['', '1', '', ''],\n",
       "       ['', '', '1', '']], dtype='<U1')"
      ]
     },
     "execution_count": 71,
     "metadata": {},
     "output_type": "execute_result"
    }
   ],
   "source": [
    "import numpy as np\n",
    "\n",
    "arr2 = np.eye(3,4, dtype=np.unicode_) #Watch out!!! We are now specifying the data type of the array\n",
    "arr2"
   ]
  },
  {
   "cell_type": "code",
   "execution_count": 60,
   "metadata": {},
   "outputs": [
    {
     "data": {
      "text/plain": [
       "array([b'a', b'b', b'c'], dtype='|S1')"
      ]
     },
     "execution_count": 60,
     "metadata": {},
     "output_type": "execute_result"
    }
   ],
   "source": [
    "import numpy as np\n",
    "\n",
    "arr2 = np.array(['a','b','c'], dtype=np.string_) #Watch out!!! We are now specifying the data type of the array\n",
    "arr2"
   ]
  },
  {
   "cell_type": "code",
   "execution_count": 72,
   "metadata": {},
   "outputs": [
    {
     "name": "stdout",
     "output_type": "stream",
     "text": [
      "[b'.1' b'.2' b'.3']\n",
      "[0.1 0.2 0.3]\n"
     ]
    }
   ],
   "source": [
    "import numpy as np\n",
    "\n",
    "arr2 = np.array(['.1','.2','.3'], dtype=np.string_) #Watch out!!! We are now specifying the data type of the array\n",
    "arr3 = arr2.astype(float)\n",
    "print(arr2)\n",
    "print(arr3)"
   ]
  },
  {
   "cell_type": "code",
   "execution_count": 80,
   "metadata": {},
   "outputs": [
    {
     "name": "stdout",
     "output_type": "stream",
     "text": [
      "int64 float128\n",
      "[1 2 3 5]\n"
     ]
    }
   ],
   "source": [
    "iarr = np.array([1,2,3,4,5])\n",
    "farr = iarr.astype(np.float128)\n",
    "print(iarr.dtype, farr.dtype)\n",
    "\n"
   ]
  },
  {
   "cell_type": "code",
   "execution_count": 81,
   "metadata": {},
   "outputs": [
    {
     "name": "stdout",
     "output_type": "stream",
     "text": [
      "[1 2 3 5]\n"
     ]
    }
   ],
   "source": [
    "farr = np.array([1.1, 2.5, 3.2, 5.9], dtype=np.float64)\n",
    "iarr = farr.astype(np.int64)\n",
    "print(iarr)"
   ]
  },
  {
   "cell_type": "code",
   "execution_count": 28,
   "metadata": {},
   "outputs": [
    {
     "name": "stdout",
     "output_type": "stream",
     "text": [
      "[1.  1.1 1.2 1.3 1.4 1.5 1.6 1.7 1.8 1.9 2.  2.1 2.2 2.3 2.4]\n",
      "[0 1 2 3 4 5 6 7 8 9]\n"
     ]
    }
   ],
   "source": [
    "import numpy as np\n",
    "\n",
    "arr = np.arange(1,2.5,0.1)\n",
    "print(arr)\n",
    "arr = np.arange(10)\n",
    "print(arr)"
   ]
  },
  {
   "cell_type": "code",
   "execution_count": 29,
   "metadata": {},
   "outputs": [
    {
     "name": "stdout",
     "output_type": "stream",
     "text": [
      "[1.  1.8 2.6 3.4 4.2 5. ]\n"
     ]
    }
   ],
   "source": [
    "import numpy as np\n",
    "\n",
    "arr = np.linspace(1,5,6)\n",
    "print(arr)\n"
   ]
  },
  {
   "cell_type": "code",
   "execution_count": 37,
   "metadata": {},
   "outputs": [
    {
     "data": {
      "text/plain": [
       "array([[0, 0, 0, 0, 0],\n",
       "       [0, 0, 0, 0, 0],\n",
       "       [0, 0, 0, 0, 0]], dtype=uint8)"
      ]
     },
     "execution_count": 37,
     "metadata": {},
     "output_type": "execute_result"
    }
   ],
   "source": [
    "import numpy as np\n",
    "\n",
    "arr2 = np.full((3,5),3.5, dtype='f8') \n",
    "arr3 = np.zeros_like(arr2, dtype='u1')\n",
    "arr3"
   ]
  },
  {
   "cell_type": "code",
   "execution_count": 45,
   "metadata": {},
   "outputs": [
    {
     "name": "stdout",
     "output_type": "stream",
     "text": [
      "[['-ç-' '-ç-' '-ç-' '-ç-' '-ç-' '-ç-' '-ç-']\n",
      " ['-ç-' '-ç-' '-ç-' '-ç-' '-ç-' '-ç-' '-ç-']\n",
      " ['-ç-' '-ç-' '-ç-' '-ç-' '-ç-' '-ç-' '-ç-']]\n"
     ]
    },
    {
     "data": {
      "text/plain": [
       "array([['-ç-', '-ç-', '-ç-', '-ç-', '-ç-', '-ç-', '-ç-'],\n",
       "       ['-ç-', '-ç-', '-ç-', '-ç-', '-ç-', '-ç-', '-ç-'],\n",
       "       ['-ç-', '-ç-', '-ç-', '-ç-', '-ç-', '-ç-', '-ç-']], dtype='<U3')"
      ]
     },
     "execution_count": 45,
     "metadata": {},
     "output_type": "execute_result"
    }
   ],
   "source": [
    "import numpy as np\n",
    "\n",
    "arr2 = np.full((3,7),3.5, dtype='f8') \n",
    "arr3 = np.full_like(arr2, '-ç-', dtype='U3')\n",
    "print(arr3)\n",
    "arr3"
   ]
  },
  {
   "cell_type": "code",
   "execution_count": 30,
   "metadata": {},
   "outputs": [
    {
     "name": "stdout",
     "output_type": "stream",
     "text": [
      "[[2 4 6]\n",
      " [8 8 8]]\n",
      "\n",
      "[[2.  2.  2. ]\n",
      " [0.5 0.5 0.5]]\n",
      "\n",
      "[[4.  6.  8. ]\n",
      " [8.5 8.5 8.5]]\n"
     ]
    }
   ],
   "source": [
    "m_a = np.array(((2,4,6), (8,8,8)))\n",
    "m_b = np.array(((2,2,2), (0.5,0.5,0.5)))\n",
    "print(m_a)\n",
    "print()\n",
    "print(m_b)\n",
    "print()\n",
    "m_c = m_a + m_b\n",
    "print(m_c)"
   ]
  },
  {
   "cell_type": "code",
   "execution_count": 3,
   "metadata": {},
   "outputs": [
    {
     "name": "stdout",
     "output_type": "stream",
     "text": [
      "[[2 4 6]\n",
      " [8 8 8]]\n",
      "\n",
      "[[2.  2. ]\n",
      " [0.5 0.5]\n",
      " [1.  1. ]]\n",
      "\n",
      "[[12. 12.]\n",
      " [28. 28.]]\n"
     ]
    }
   ],
   "source": [
    "m_a = np.array(((2,4,6), (8,8,8)))\n",
    "m_b = np.array(((2,2), (0.5,0.5), (1,1)))\n",
    "print(m_a)\n",
    "print()\n",
    "print(m_b)\n",
    "print()\n",
    "print(m_a @ m_b)\n"
   ]
  },
  {
   "cell_type": "code",
   "execution_count": 4,
   "metadata": {},
   "outputs": [
    {
     "name": "stdout",
     "output_type": "stream",
     "text": [
      "[[2 4 6]\n",
      " [8 8 8]]\n",
      "\n",
      "[[2.  2.  2. ]\n",
      " [0.5 0.5 0.5]]\n",
      "\n",
      "[[ 4.  8. 12.]\n",
      " [ 4.  4.  4.]]\n"
     ]
    }
   ],
   "source": [
    "m_a = np.array(((2,4,6), (8,8,8)))\n",
    "m_b = np.array(((2,2,2), (0.5,0.5,0.5)))\n",
    "print(m_a)\n",
    "print()\n",
    "print(m_b)\n",
    "print()\n",
    "print(m_a * m_b)\n",
    "#print(m_a @ m_b)"
   ]
  },
  {
   "cell_type": "code",
   "execution_count": null,
   "metadata": {},
   "outputs": [],
   "source": [
    "import numpy as np\n",
    "\n",
    "x = np.linspace(1,10,20)\n",
    "y = np.sin(x) \n",
    "print(x)\n",
    "print(y)"
   ]
  },
  {
   "cell_type": "code",
   "execution_count": null,
   "metadata": {},
   "outputs": [],
   "source": [
    "import matplotlib.pyplot as plt\n",
    "plt.plot(x,y)\n",
    "plt.show"
   ]
  },
  {
   "cell_type": "code",
   "execution_count": null,
   "metadata": {},
   "outputs": [],
   "source": [
    "#Assume a and b are two (20, 20) numpy arrays. \n",
    "#The L2-distance (defined above) between \n",
    "#two equal dimension arrays can be calculated in python as follows:\n",
    "import numpy as np\n",
    "\n",
    "a = np.array([[1,1,1,1,1,1,1,1,1,1,1,1,1,1,1,1,1,1,1,1],\n",
    "              [2,2,2,2,2,2,2,2,2,2,2,2,2,2,2,2,2,2,2,2],\n",
    "              [3,3,3,3,3,3,3,3,3,3,3,3,3,3,3,3,3,3,3,3],\n",
    "              [4,4,4,4,4,4,4,4,4,4,4,4,4,4,4,4,4,4,4,4],\n",
    "              [5,5,5,5,5,5,5,5,5,5,5,5,5,5,5,5,5,5,5,5],\n",
    "              [6,6,6,6,6,6,6,6,6,6,6,6,6,6,6,6,6,6,6,6],\n",
    "              [7,7,7,7,7,7,7,7,7,7,7,7,7,7,7,7,7,7,7,7],\n",
    "              [8,8,8,8,8,8,8,8,8,8,8,8,8,8,8,8,8,8,8,8],\n",
    "              [9,9,9,9,9,9,9,9,9,9,9,9,9,9,9,9,9,9,9,9],\n",
    "              [0,0,0,0,0,0,0,0,0,0,0,0,0,0,0,0,0,0,0,0],\n",
    "              [1,1,1,1,1,1,1,1,1,1,1,1,1,1,1,1,1,1,1,1],\n",
    "              [2,2,2,2,2,2,2,2,2,2,2,2,2,2,2,2,2,2,2,2],\n",
    "              [3,3,3,3,3,3,3,3,3,3,3,3,3,3,3,3,3,3,3,3],\n",
    "              [4,4,4,4,4,4,4,4,4,4,4,4,4,4,4,4,4,4,4,4],\n",
    "              [5,5,5,5,5,5,5,5,5,5,5,5,5,5,5,5,5,5,5,5],\n",
    "              [6,6,6,6,6,6,6,6,6,6,6,6,6,6,6,6,6,6,6,6],\n",
    "              [7,7,7,7,7,7,7,7,7,7,7,7,7,7,7,7,7,7,7,7],\n",
    "              [8,8,8,8,8,8,8,8,8,8,8,8,8,8,8,8,8,8,8,8],\n",
    "              [9,9,9,9,9,9,9,9,9,9,9,9,9,9,9,9,9,9,9,9],\n",
    "              [0,0,0,0,0,0,0,0,0,0,0,0,0,0,0,0,0,0,0,0]])\n",
    "b = np.ones((20,20))\n",
    "print(a)\n",
    "print(b)\n",
    "\n",
    "\n",
    "def l2_dist(a, b):\n",
    "    result = ((a - b) * (a - b)).sum()\n",
    "    result = result ** 0.5\n",
    "    return result \n",
    "\n",
    "#Which of the following expressions using this function will produce \n",
    "#a different result from the rest?\n",
    "\n",
    "print(l2_dist(np.reshape(a, (20 * 20)), np.reshape(b, (20 * 20, 1))))\n",
    "print(l2_dist(np.reshape(a, (20 * 20)), np.reshape(b, (20 * 20))))\n",
    "print(l2_dist(a.T, b.T))\n",
    "print(l2_dist(a, b))\n",
    "print('np.reshape(a, (20 * 20))')\n",
    "print(np.reshape(a, (20 * 20)))\n",
    "print('np.reshape(b, (20 * 20, 1))')\n",
    "print(np.reshape(b, (20 * 20, 1)))\n",
    "print('a.T')\n",
    "print(a.T)"
   ]
  },
  {
   "cell_type": "code",
   "execution_count": 5,
   "metadata": {},
   "outputs": [
    {
     "name": "stdout",
     "output_type": "stream",
     "text": [
      "[0.69420946 0.27321746 0.84048525 0.15413279]\n",
      "[[0.58703703]\n",
      " [0.46633268]\n",
      " [0.09112952]\n",
      " [0.1880305 ]]\n",
      "[[1 2 3 4]]\n",
      "[1 2 3]\n",
      "[1. 2. 3. 4.]\n",
      "False\n",
      "True\n",
      "False\n",
      "True\n"
     ]
    }
   ],
   "source": [
    "import numpy as np\n",
    "a1 = np.random.rand(4)\n",
    "a2 = np.random.rand(4, 1)\n",
    "a3 = np.array([[1, 2, 3, 4]])\n",
    "a4 = np.arange(1, 4, 1)\n",
    "a5 = np.linspace(1 ,4, 4)\n",
    "print(a1)\n",
    "print(a2)\n",
    "print(a3)\n",
    "print(a4)\n",
    "print(a5)\n",
    "\n",
    "print(a1.shape == a2.shape)\n",
    "#print(a4.ndim() == 1)\n",
    "print(a4.ndim == 1)\n",
    "print(a3.shape == a4.shape)\n",
    "print(a5.shape == a1.shape)"
   ]
  },
  {
   "cell_type": "markdown",
   "metadata": {},
   "source": [
    "### Generación de números aleatorios con Numpy"
   ]
  },
  {
   "cell_type": "code",
   "execution_count": null,
   "metadata": {},
   "outputs": [],
   "source": [
    "a0 = np.random.rand()\n",
    "print('One random number:', a0)"
   ]
  },
  {
   "cell_type": "code",
   "execution_count": null,
   "metadata": {},
   "outputs": [],
   "source": [
    "print('\\nRandom integers between 10 and 20 matrix 5x20')\n",
    "a1 = np.random.randint(10,20,size=(5,20))\n",
    "print(a1)"
   ]
  },
  {
   "cell_type": "code",
   "execution_count": null,
   "metadata": {},
   "outputs": [],
   "source": [
    "print('\\nRandom between 0 and 1 matrix 4x6')\n",
    "a2 = np.random.rand(4, 6)\n",
    "print(a2)"
   ]
  },
  {
   "cell_type": "code",
   "execution_count": null,
   "metadata": {},
   "outputs": [],
   "source": [
    "rng = np.random.default_rng()\n",
    "a3 = rng.integers(1,10, size=(3,5))\n",
    "print('\\nNew Way. Random integers between 1 and 10 matrix 3x5')\n",
    "print(a3)"
   ]
  },
  {
   "cell_type": "code",
   "execution_count": null,
   "metadata": {},
   "outputs": [],
   "source": [
    "print('\\nNew Way. 10 Random floats between 1 then reshape to matrix 2x5')\n",
    "a4 = rng.random(10).reshape(2,5)\n",
    "print(a4)"
   ]
  },
  {
   "cell_type": "code",
   "execution_count": 77,
   "metadata": {},
   "outputs": [
    {
     "name": "stdout",
     "output_type": "stream",
     "text": [
      "\n",
      "New Way. Random floats between 0-1  matrix 2x5\n",
      "[[0.87956994 0.9362917  0.89289482 0.68379718 0.62626343]\n",
      " [0.25472185 0.63802989 0.85059939 0.56290425 0.55894442]]\n"
     ]
    }
   ],
   "source": [
    "print('\\nNew Way. Random floats between 0-1  matrix 2x5')\n",
    "a5 = rng.random(size=(2,5))\n",
    "print(a5)"
   ]
  },
  {
   "cell_type": "code",
   "execution_count": 78,
   "metadata": {},
   "outputs": [
    {
     "name": "stdout",
     "output_type": "stream",
     "text": [
      "9\n",
      "\n",
      "Arreglo de valores aleatorios seleccionados de lista:\n",
      " [[7 9 5]\n",
      " [3 3 9]]\n"
     ]
    }
   ],
   "source": [
    "# choice() takes array as input and randomly select one of the values\n",
    "lista = [3,5,7,9]\n",
    "x = np.random.choice(lista)\n",
    "print(x)\n",
    "y = np.random.choice(lista, size = (2,3))\n",
    "print('\\nArreglo de valores aleatorios seleccionados de lista:\\n', y)"
   ]
  },
  {
   "cell_type": "code",
   "execution_count": 81,
   "metadata": {},
   "outputs": [
    {
     "name": "stdout",
     "output_type": "stream",
     "text": [
      "\n",
      "Ahora seleccionamos de lista con distribución de probabilidad:\n",
      " [[5 7 7 7 7 7 7 7 7 7 7 7 7 5 7 5 7 3 7 7 5 7 5 7 3]\n",
      " [7 7 5 7 3 7 7 3 7 5 7 5 5 7 7 7 7 7 7 7 7 7 5 5 7]\n",
      " [7 5 7 5 5 5 7 7 7 5 7 3 5 7 7 7 5 7 5 7 7 5 3 7 7]\n",
      " [7 7 5 7 5 7 5 5 7 5 7 7 7 7 7 5 5 5 7 7 7 7 7 7 7]]\n"
     ]
    }
   ],
   "source": [
    "lista = [3,5,7,9]\n",
    "p = [0.1, 0.3, 0.6, 0.0]\n",
    "z = np.random.choice(lista, p = p, size = (4,25))\n",
    "print('\\nAhora seleccionamos de lista con distribución de probabilidad:\\n', z)"
   ]
  },
  {
   "cell_type": "code",
   "execution_count": 79,
   "metadata": {},
   "outputs": [
    {
     "name": "stdout",
     "output_type": "stream",
     "text": [
      "\n",
      "Selección de lista con distribución de probabilidad, usando RNG:\n",
      " [[7 7 5 7 5]\n",
      " [5 5 5 7 7]]\n"
     ]
    }
   ],
   "source": [
    "lista = [3,5,7,9]\n",
    "rng = np.random.default_rng()\n",
    "z = rng.choice(lista, p=p, size=(2,5))\n",
    "print('\\nSelección de lista con distribución de probabilidad, usando RNG:\\n', z)"
   ]
  },
  {
   "cell_type": "code",
   "execution_count": 86,
   "metadata": {},
   "outputs": [
    {
     "data": {
      "image/png": "[encoded data removed]",
      "text/plain": [
       "<Figure size 432x288 with 1 Axes>"
      ]
     },
     "metadata": {
      "needs_background": "light"
     },
     "output_type": "display_data"
    },
    {
     "data": {
      "image/png": "[encoded data removed]",
      "text/plain": [
       "<Figure size 432x288 with 1 Axes>"
      ]
     },
     "metadata": {
      "needs_background": "light"
     },
     "output_type": "display_data"
    },
    {
     "data": {
      "image/png": "[encoded data removed]",
      "text/plain": [
       "<Figure size 432x288 with 1 Axes>"
      ]
     },
     "metadata": {
      "needs_background": "light"
     },
     "output_type": "display_data"
    }
   ],
   "source": [
    "# Generando números con distribuciones de probabilidad, en este caso Normal\n",
    "import matplotlib.pyplot as plt\n",
    "rng = np.random.default_rng()\n",
    "z = rng.normal(50, 10, size=(1000000))\n",
    "#print(z)\n",
    "nulo = plt.hist(z,bins=55)\n",
    "plt.show()\n",
    "nulo = plt.hist(rng.normal(50, 10, size=(1000000)), bins = 55)\n",
    "plt.show()\n",
    "nulo = plt.hist(rng.normal(50, 10, size=(10000000)), bins = 55)\n",
    "plt.show()"
   ]
  },
  {
   "cell_type": "code",
   "execution_count": null,
   "metadata": {},
   "outputs": [],
   "source": []
  },
  {
   "cell_type": "code",
   "execution_count": 11,
   "metadata": {},
   "outputs": [
    {
     "name": "stdout",
     "output_type": "stream",
     "text": [
      "36\n",
      "\n",
      "[10 12 14]\n",
      "\n",
      "[12 24]\n",
      "\n",
      "[12 24]\n",
      "\n",
      "[12 24]\n"
     ]
    }
   ],
   "source": [
    "import numpy as np\n",
    "m_a = np.array(((2,4,6), (8,8,8)))\n",
    "m_b = np.array(((2,2,2), (0.5,0.5,0.5)))\n",
    "print(m_a.sum())\n",
    "print()\n",
    "print(m_a.sum(axis=0))\n",
    "print()\n",
    "print(m_a.sum(axis=1))\n",
    "print()\n",
    "print(m_a.sum(axis=1).T) # no funciona\n",
    "print()\n",
    "x = m_a.sum(axis=1)\n",
    "print(x.T)# no funciona ???"
   ]
  }
 ],
 "metadata": {
  "interpreter": {
   "hash": "aee8b7b246df8f9039afb4144a1f6fd8d2ca17a180786b69acc140d282b71a49"
  },
  "kernelspec": {
   "display_name": "Python 3 (ipykernel)",
   "language": "python",
   "name": "python3"
  },
  "language_info": {
   "codemirror_mode": {
    "name": "ipython",
    "version": 3
   },
   "file_extension": ".py",
   "mimetype": "text/x-python",
   "name": "python",
   "nbconvert_exporter": "python",
   "pygments_lexer": "ipython3",
   "version": "3.10.6"
  }
 },
 "nbformat": 4,
 "nbformat_minor": 4
}
